{
 "cells": [
  {
   "cell_type": "markdown",
   "id": "cd8754e2-4ef5-474b-8f1c-69ed1874f592",
   "metadata": {},
   "source": [
    "# Hyper Cruises - ELC"
   ]
  },
  {
   "cell_type": "code",
   "execution_count": 5,
   "id": "6e80571a-29bc-44fc-a44b-fb1618c6f4e7",
   "metadata": {},
   "outputs": [],
   "source": [
    "import pandas as pd\n",
    "pd.set_option('display.max_columns', None)\n",
    "from google.auth import load_credentials_from_file\n",
    "from google.cloud.bigquery import Client"
   ]
  },
  {
   "cell_type": "markdown",
   "id": "f16a8360-c2bc-4e93-ad53-dd916c687b9b",
   "metadata": {},
   "source": [
    "## Loading data from BigQuery"
   ]
  },
  {
   "cell_type": "code",
   "execution_count": 6,
   "id": "29ff93cd-3395-4713-8357-70b54df6e0db",
   "metadata": {},
   "outputs": [],
   "source": [
    "credentials, project_id = load_credentials_from_file('key.json')"
   ]
  },
  {
   "cell_type": "code",
   "execution_count": 7,
   "id": "d49ce1f8-d9d6-4be6-811f-e5a3c45c3e8a",
   "metadata": {},
   "outputs": [],
   "source": [
    "# Load data from BigQuery\n",
    "client = Client(\n",
    "    project = project_id,\n",
    "    credentials=credentials\n",
    ")"
   ]
  },
  {
   "cell_type": "code",
   "execution_count": 8,
   "id": "929db11b-0578-4892-b9c2-f024eb2a5d03",
   "metadata": {},
   "outputs": [],
   "source": [
    "query = \"SELECT * FROM `da26-python.music_data.tracks`\""
   ]
  },
  {
   "cell_type": "code",
   "execution_count": 9,
   "id": "4bcc73ce-587a-471b-9534-5652f32dea3b",
   "metadata": {},
   "outputs": [],
   "source": [
    "load_job = client.query(query)"
   ]
  },
  {
   "cell_type": "code",
   "execution_count": 10,
   "id": "380bc78e-17ad-4f57-8eeb-2cf4c0a6b5d9",
   "metadata": {},
   "outputs": [
    {
     "name": "stderr",
     "output_type": "stream",
     "text": [
      "/Users/antonnyberg/da26-python/da26-python/da26-python/.venv/lib/python3.13/site-packages/google/cloud/bigquery/table.py:1727: UserWarning: BigQuery Storage module not found, fetch data with the REST endpoint instead.\n",
      "  warnings.warn(\n"
     ]
    }
   ],
   "source": [
    "data = load_job.to_dataframe()"
   ]
  },
  {
   "cell_type": "code",
   "execution_count": 11,
   "id": "c4bb7d47-5d2a-48a4-b40d-7daee02d4412",
   "metadata": {},
   "outputs": [],
   "source": [
    "def load_data(table):\n",
    "    query = f\"SELECT * FROM `da26-python.music_data.{table}`\"\n",
    "    load_job = client.query(query)\n",
    "    data = load_job.to_dataframe()\n",
    "    return data"
   ]
  },
  {
   "cell_type": "code",
   "execution_count": 12,
   "id": "7fa58416-4897-4dd6-a9ee-8dd916d9aaed",
   "metadata": {},
   "outputs": [],
   "source": [
    "artists = load_data('artists')"
   ]
  },
  {
   "cell_type": "code",
   "execution_count": 13,
   "id": "2b3605a3-e6ba-4b9a-8217-cb97cb546157",
   "metadata": {},
   "outputs": [],
   "source": [
    "audio_features = load_data('audio_features')"
   ]
  },
  {
   "cell_type": "code",
   "execution_count": 14,
   "id": "1098cd99-1710-4bae-b405-e86b559a771d",
   "metadata": {},
   "outputs": [],
   "source": [
    "chart_positions = load_data('chart_positions')"
   ]
  },
  {
   "cell_type": "code",
   "execution_count": 15,
   "id": "55728858-4503-436c-b8d2-0ea98fe82042",
   "metadata": {},
   "outputs": [],
   "source": [
    "mapping = load_data('tracks_artists_mapping')"
   ]
  },
  {
   "cell_type": "code",
   "execution_count": 16,
   "id": "3e26512c-d655-4403-93b7-cf21984a7d06",
   "metadata": {},
   "outputs": [],
   "source": [
    "tracks = load_data('tracks')"
   ]
  },
  {
   "cell_type": "markdown",
   "id": "c50a9f80-691a-4933-a8fc-41b3b94e01dc",
   "metadata": {},
   "source": [
    "## Joining and cleaning"
   ]
  },
  {
   "cell_type": "markdown",
   "id": "e26fc141-6237-41b6-b065-2223fd60b849",
   "metadata": {},
   "source": [
    "### Joining together tracks, artists, chart_positions and mapping table together\n",
    "\n",
    "Will later on be joined with the audio_features once cleaned"
   ]
  },
  {
   "cell_type": "code",
   "execution_count": 17,
   "id": "8d4deeda-f233-48d5-9de9-4734125ab17b",
   "metadata": {},
   "outputs": [],
   "source": [
    "data = tracks.merge(mapping, on = 'track_id' )"
   ]
  },
  {
   "cell_type": "code",
   "execution_count": 18,
   "id": "1e16f6db-4e79-44b5-b244-8538e7693a06",
   "metadata": {},
   "outputs": [],
   "source": [
    "data = data.merge(artists, on = 'artist_id')"
   ]
  },
  {
   "cell_type": "code",
   "execution_count": 19,
   "id": "13bff580-8724-4712-8114-129cf255ef70",
   "metadata": {},
   "outputs": [],
   "source": [
    "data.rename(columns = {'name_x':'track_name', 'name_y':'artist'}, inplace = True)"
   ]
  },
  {
   "cell_type": "code",
   "execution_count": 20,
   "id": "9c184630-0958-4e38-ab8d-abf5cab9e96b",
   "metadata": {},
   "outputs": [],
   "source": [
    "data = data.merge(chart_positions, on = 'track_id')"
   ]
  },
  {
   "cell_type": "code",
   "execution_count": 21,
   "id": "3e1fd5f3-4558-4a90-9a2a-2262112c7e4a",
   "metadata": {},
   "outputs": [],
   "source": [
    "data = data[['track_name', 'artist', 'duration_ms', \n",
    "             'release_date', 'popularity', 'followers',\n",
    "             'chart_week', 'list_position', 'track_id', 'artist_id']]"
   ]
  },
  {
   "cell_type": "markdown",
   "id": "005074c3-1acf-4ec9-931d-13a285298b4d",
   "metadata": {
    "jp-MarkdownHeadingCollapsed": true
   },
   "source": [
    "### Cleaning audio_features\n",
    "\n",
    "Cleaned seperately for better visiblility of columns\n",
    "\n",
    "- Got rid of null values\n",
    "- Rounded and changed datatype of tempo-column from float to int\n",
    "- Dropped redundant time_signature column"
   ]
  },
  {
   "cell_type": "code",
   "execution_count": 23,
   "id": "a2b7e0a6-c068-414d-9491-28792107fcc5",
   "metadata": {},
   "outputs": [],
   "source": [
    "# Getting rid of null values\n",
    "audio_features = audio_features.dropna()"
   ]
  },
  {
   "cell_type": "code",
   "execution_count": 24,
   "id": "30c966c7-0b37-440e-aa88-3413f7801d47",
   "metadata": {},
   "outputs": [],
   "source": [
    "# rounding and changing datatype of tempo to int\n",
    "audio_features['tempo'] = round(audio_features['tempo']).astype('int')"
   ]
  },
  {
   "cell_type": "code",
   "execution_count": 25,
   "id": "21a42f79-70e8-4f08-984f-b52665d00b2f",
   "metadata": {},
   "outputs": [],
   "source": [
    "# dropping redundant columns\n",
    "audio_features.drop(columns = 'time_signature', inplace=True)"
   ]
  },
  {
   "cell_type": "markdown",
   "id": "fd1b5154-b953-4075-aa0d-8d2045ea91dc",
   "metadata": {},
   "source": [
    "### Cleaning previously joined together data"
   ]
  },
  {
   "cell_type": "markdown",
   "id": "07da19e0-4a02-4b54-9468-c0bc45374288",
   "metadata": {},
   "source": [
    "#### Track duration format from miliseconds to minutes"
   ]
  },
  {
   "cell_type": "code",
   "execution_count": 26,
   "id": "fcac9f80-1891-4836-8bc6-3a6473a67e97",
   "metadata": {
    "scrolled": true
   },
   "outputs": [],
   "source": [
    "# Changing track duration format from miliseconds to minutes\n",
    "data['duration_ms'] = round((data['duration_ms']/1000)/60,1)"
   ]
  },
  {
   "cell_type": "code",
   "execution_count": 27,
   "id": "62471b24-9fe6-40c4-a5b8-61834c7a2c7e",
   "metadata": {},
   "outputs": [],
   "source": [
    "data = data.rename(columns = {'duration_ms':'duration_min'})"
   ]
  },
  {
   "cell_type": "markdown",
   "id": "fb0f1a7f-2596-41d6-b996-257988f1b1a6",
   "metadata": {},
   "source": [
    "#### release_date to release_year"
   ]
  },
  {
   "cell_type": "code",
   "execution_count": 28,
   "id": "2dc1c7f4-ace6-4b2d-be2f-018014f168db",
   "metadata": {
    "scrolled": true
   },
   "outputs": [],
   "source": [
    "data['release_date'] = data['release_date'].str[:4]"
   ]
  },
  {
   "cell_type": "code",
   "execution_count": 29,
   "id": "8330716f-7bc3-4d6d-913c-520b7e4971b2",
   "metadata": {},
   "outputs": [],
   "source": [
    "data['release_date'] = pd.to_datetime(data['release_date'], format = '%Y')"
   ]
  },
  {
   "cell_type": "code",
   "execution_count": 30,
   "id": "f391a810-f0cf-4674-9be7-1449a3ad1f41",
   "metadata": {},
   "outputs": [],
   "source": [
    "data['release_date'] = data['release_date'].dt.year"
   ]
  },
  {
   "cell_type": "code",
   "execution_count": 31,
   "id": "1ebc13ee-515a-4beb-9ff8-8a35147454f0",
   "metadata": {},
   "outputs": [],
   "source": [
    "data = data.rename(columns = {'release_date': 'release_year'})"
   ]
  },
  {
   "cell_type": "code",
   "execution_count": 32,
   "id": "a41826f5-0e92-4138-ac89-8a4a12c45e85",
   "metadata": {},
   "outputs": [],
   "source": [
    "data['chart_week'] = pd.to_datetime(data['chart_week'], format='%Y-%m-%d')"
   ]
  },
  {
   "cell_type": "markdown",
   "id": "b6f66e84-7421-4403-b2f5-cda530488902",
   "metadata": {},
   "source": [
    "### Joining together data with audio_features\n",
    "\n",
    "Removing duplicates and resetting index. Filtering for songs released in 2000-2009"
   ]
  },
  {
   "cell_type": "code",
   "execution_count": 33,
   "id": "12cbd166-f414-4145-a14d-54431a88d69a",
   "metadata": {},
   "outputs": [],
   "source": [
    "data = data.merge(audio_features, on = 'track_id')"
   ]
  },
  {
   "cell_type": "code",
   "execution_count": 34,
   "id": "2d008a38-df69-4cc9-a63e-128850945c19",
   "metadata": {},
   "outputs": [],
   "source": [
    "data = data.drop_duplicates()"
   ]
  },
  {
   "cell_type": "code",
   "execution_count": 35,
   "id": "4c47a518",
   "metadata": {},
   "outputs": [],
   "source": [
    "data = data[~data['track_name'].str.contains(\"christmas\")]"
   ]
  },
  {
   "cell_type": "code",
   "execution_count": 36,
   "id": "c54ecd3e-3cd8-42a5-a7cb-6a824ff75882",
   "metadata": {},
   "outputs": [],
   "source": [
    "data = data.reset_index(drop=True)"
   ]
  },
  {
   "cell_type": "code",
   "execution_count": 37,
   "id": "d206e19c-7976-4826-84fb-f95a73254f60",
   "metadata": {},
   "outputs": [],
   "source": [
    "cleaned_data = data[(data['release_year'] >= 2000) & (data['release_year'] <= 2009)]"
   ]
  },
  {
   "cell_type": "code",
   "execution_count": 39,
   "id": "0e76b1c1-afae-42d9-9688-817dee5fbaf5",
   "metadata": {},
   "outputs": [],
   "source": [
    "cleaned_data.to_csv('cleaned_data.csv')"
   ]
  }
 ],
 "metadata": {
  "kernelspec": {
   "display_name": "Python 3 (ipykernel)",
   "language": "python",
   "name": "python3"
  },
  "language_info": {
   "codemirror_mode": {
    "name": "ipython",
    "version": 3
   },
   "file_extension": ".py",
   "mimetype": "text/x-python",
   "name": "python",
   "nbconvert_exporter": "python",
   "pygments_lexer": "ipython3",
   "version": "3.13.0"
  }
 },
 "nbformat": 4,
 "nbformat_minor": 5
}
