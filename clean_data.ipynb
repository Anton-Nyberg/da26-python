{
 "cells": [
  {
   "cell_type": "markdown",
   "id": "cd8754e2-4ef5-474b-8f1c-69ed1874f592",
   "metadata": {},
   "source": [
    "# Hyper Cruises - ELC"
   ]
  },
  {
   "cell_type": "code",
   "execution_count": 2,
   "id": "6e80571a-29bc-44fc-a44b-fb1618c6f4e7",
   "metadata": {},
   "outputs": [],
   "source": [
    "import pandas as pd\n",
    "pd.set_option('display.max_columns', None)\n",
    "from google.auth import load_credentials_from_file\n",
    "from google.cloud.bigquery import Client"
   ]
  },
  {
   "cell_type": "markdown",
   "id": "f16a8360-c2bc-4e93-ad53-dd916c687b9b",
   "metadata": {},
   "source": [
    "## Loading data from BigQuery"
   ]
  },
  {
   "cell_type": "code",
   "execution_count": 4,
   "id": "29ff93cd-3395-4713-8357-70b54df6e0db",
   "metadata": {},
   "outputs": [],
   "source": [
    "credentials, project_id = load_credentials_from_file('service_account.json')"
   ]
  },
  {
   "cell_type": "code",
   "execution_count": 5,
   "id": "d49ce1f8-d9d6-4be6-811f-e5a3c45c3e8a",
   "metadata": {},
   "outputs": [],
   "source": [
    "# Load data from BigQuery\n",
    "client = Client(\n",
    "    project = project_id,\n",
    "    credentials=credentials\n",
    ")"
   ]
  },
  {
   "cell_type": "code",
   "execution_count": 6,
   "id": "929db11b-0578-4892-b9c2-f024eb2a5d03",
   "metadata": {},
   "outputs": [],
   "source": [
    "query = \"SELECT * FROM `da26-python.music_data.tracks`\""
   ]
  },
  {
   "cell_type": "code",
   "execution_count": 7,
   "id": "4bcc73ce-587a-471b-9534-5652f32dea3b",
   "metadata": {},
   "outputs": [],
   "source": [
    "load_job = client.query(query)"
   ]
  },
  {
   "cell_type": "code",
   "execution_count": 8,
   "id": "380bc78e-17ad-4f57-8eeb-2cf4c0a6b5d9",
   "metadata": {},
   "outputs": [
    {
     "name": "stderr",
     "output_type": "stream",
     "text": [
      "/opt/anaconda3/lib/python3.12/site-packages/google/cloud/bigquery/table.py:1727: UserWarning: BigQuery Storage module not found, fetch data with the REST endpoint instead.\n",
      "  warnings.warn(\n"
     ]
    }
   ],
   "source": [
    "data = load_job.to_dataframe()"
   ]
  },
  {
   "cell_type": "code",
   "execution_count": 9,
   "id": "c4bb7d47-5d2a-48a4-b40d-7daee02d4412",
   "metadata": {},
   "outputs": [],
   "source": [
    "def load_data(table):\n",
    "    query = f\"SELECT * FROM `da26-python.music_data.{table}`\"\n",
    "    load_job = client.query(query)\n",
    "    data = load_job.to_dataframe()\n",
    "    return data"
   ]
  },
  {
   "cell_type": "code",
   "execution_count": 10,
   "id": "7fa58416-4897-4dd6-a9ee-8dd916d9aaed",
   "metadata": {},
   "outputs": [],
   "source": [
    "artists = load_data('artists')"
   ]
  },
  {
   "cell_type": "code",
   "execution_count": 11,
   "id": "2b3605a3-e6ba-4b9a-8217-cb97cb546157",
   "metadata": {},
   "outputs": [],
   "source": [
    "audio_features = load_data('audio_features')"
   ]
  },
  {
   "cell_type": "code",
   "execution_count": 12,
   "id": "1098cd99-1710-4bae-b405-e86b559a771d",
   "metadata": {},
   "outputs": [],
   "source": [
    "chart_positions = load_data('chart_positions')"
   ]
  },
  {
   "cell_type": "code",
   "execution_count": 13,
   "id": "55728858-4503-436c-b8d2-0ea98fe82042",
   "metadata": {},
   "outputs": [],
   "source": [
    "mapping = load_data('tracks_artists_mapping')"
   ]
  },
  {
   "cell_type": "code",
   "execution_count": 14,
   "id": "3e26512c-d655-4403-93b7-cf21984a7d06",
   "metadata": {},
   "outputs": [],
   "source": [
    "tracks = load_data('tracks')"
   ]
  },
  {
   "cell_type": "markdown",
   "id": "c50a9f80-691a-4933-a8fc-41b3b94e01dc",
   "metadata": {},
   "source": [
    "## Joining and cleaning"
   ]
  },
  {
   "cell_type": "markdown",
   "id": "e26fc141-6237-41b6-b065-2223fd60b849",
   "metadata": {},
   "source": [
    "### Joining together tracks, artists, chart_positions and mapping table together\n",
    "\n",
    "Will later on be joined with the audio_features once cleaned"
   ]
  },
  {
   "cell_type": "code",
   "execution_count": 17,
   "id": "8d4deeda-f233-48d5-9de9-4734125ab17b",
   "metadata": {},
   "outputs": [],
   "source": [
    "data = tracks.merge(mapping, on = 'track_id' )"
   ]
  },
  {
   "cell_type": "code",
   "execution_count": 18,
   "id": "1e16f6db-4e79-44b5-b244-8538e7693a06",
   "metadata": {},
   "outputs": [],
   "source": [
    "data = data.merge(artists, on = 'artist_id')"
   ]
  },
  {
   "cell_type": "code",
   "execution_count": 19,
   "id": "13bff580-8724-4712-8114-129cf255ef70",
   "metadata": {},
   "outputs": [],
   "source": [
    "data.rename(columns = {'name_x':'track_name', 'name_y':'artist'}, inplace = True)"
   ]
  },
  {
   "cell_type": "code",
   "execution_count": 20,
   "id": "9c184630-0958-4e38-ab8d-abf5cab9e96b",
   "metadata": {},
   "outputs": [],
   "source": [
    "data = data.merge(chart_positions, on = 'track_id')"
   ]
  },
  {
   "cell_type": "code",
   "execution_count": 21,
   "id": "3e1fd5f3-4558-4a90-9a2a-2262112c7e4a",
   "metadata": {},
   "outputs": [],
   "source": [
    "data = data[['track_name', 'artist', 'duration_ms', \n",
    "             'release_date', 'popularity', 'followers',\n",
    "             'chart_week', 'list_position', 'track_id', 'artist_id']]"
   ]
  },
  {
   "cell_type": "markdown",
   "id": "005074c3-1acf-4ec9-931d-13a285298b4d",
   "metadata": {
    "jp-MarkdownHeadingCollapsed": true
   },
   "source": [
    "### Cleaning audio_features\n",
    "\n",
    "Cleaned seperately for better visiblility of columns\n",
    "\n",
    "- Got rid of null values\n",
    "- Rounded and changed datatype of tempo-column from float to int\n",
    "- Dropped redundant time_signature column"
   ]
  },
  {
   "cell_type": "code",
   "execution_count": 23,
   "id": "dbfdee76-fe0e-416a-87e2-23ca051e4c31",
   "metadata": {},
   "outputs": [
    {
     "name": "stdout",
     "output_type": "stream",
     "text": [
      "<class 'pandas.core.frame.DataFrame'>\n",
      "RangeIndex: 10783 entries, 0 to 10782\n",
      "Data columns (total 13 columns):\n",
      " #   Column            Non-Null Count  Dtype  \n",
      "---  ------            --------------  -----  \n",
      " 0   track_id          10776 non-null  object \n",
      " 1   danceability      10776 non-null  float64\n",
      " 2   energy            10776 non-null  float64\n",
      " 3   key               10776 non-null  float64\n",
      " 4   loudness          10776 non-null  float64\n",
      " 5   mode              10776 non-null  float64\n",
      " 6   speechiness       10776 non-null  float64\n",
      " 7   acousticness      10776 non-null  float64\n",
      " 8   instrumentalness  10776 non-null  float64\n",
      " 9   liveness          10776 non-null  float64\n",
      " 10  valence           10776 non-null  float64\n",
      " 11  tempo             10776 non-null  float64\n",
      " 12  time_signature    10776 non-null  float64\n",
      "dtypes: float64(12), object(1)\n",
      "memory usage: 1.1+ MB\n"
     ]
    }
   ],
   "source": [
    "audio_features.info()"
   ]
  },
  {
   "cell_type": "code",
   "execution_count": 24,
   "id": "a2b7e0a6-c068-414d-9491-28792107fcc5",
   "metadata": {},
   "outputs": [],
   "source": [
    "# Getting rid of null values\n",
    "audio_features = audio_features.dropna()"
   ]
  },
  {
   "cell_type": "code",
   "execution_count": 25,
   "id": "30c966c7-0b37-440e-aa88-3413f7801d47",
   "metadata": {},
   "outputs": [],
   "source": [
    "# rounding and changing datatype of tempo to int\n",
    "audio_features['tempo'] = round(audio_features['tempo']).astype('int')"
   ]
  },
  {
   "cell_type": "code",
   "execution_count": 26,
   "id": "21a42f79-70e8-4f08-984f-b52665d00b2f",
   "metadata": {},
   "outputs": [],
   "source": [
    "# dropping redundant columns\n",
    "audio_features.drop(columns = 'time_signature', inplace=True)"
   ]
  },
  {
   "cell_type": "markdown",
   "id": "fd1b5154-b953-4075-aa0d-8d2045ea91dc",
   "metadata": {},
   "source": [
    "### Cleaning previously joined together data"
   ]
  },
  {
   "cell_type": "markdown",
   "id": "07da19e0-4a02-4b54-9468-c0bc45374288",
   "metadata": {},
   "source": [
    "#### Track duration format from miliseconds to minutes"
   ]
  },
  {
   "cell_type": "code",
   "execution_count": 29,
   "id": "fcac9f80-1891-4836-8bc6-3a6473a67e97",
   "metadata": {
    "scrolled": true
   },
   "outputs": [],
   "source": [
    "# Changing track duration format from miliseconds to minutes\n",
    "data['duration_ms'] = round((data['duration_ms']/1000)/60,1)"
   ]
  },
  {
   "cell_type": "code",
   "execution_count": 30,
   "id": "62471b24-9fe6-40c4-a5b8-61834c7a2c7e",
   "metadata": {},
   "outputs": [],
   "source": [
    "data = data.rename(columns = {'duration_ms':'duration_min'})"
   ]
  },
  {
   "cell_type": "markdown",
   "id": "fb0f1a7f-2596-41d6-b996-257988f1b1a6",
   "metadata": {},
   "source": [
    "#### release_date to release_year"
   ]
  },
  {
   "cell_type": "code",
   "execution_count": 32,
   "id": "2dc1c7f4-ace6-4b2d-be2f-018014f168db",
   "metadata": {
    "scrolled": true
   },
   "outputs": [],
   "source": [
    "data['release_date'] = data['release_date'].str[:4]"
   ]
  },
  {
   "cell_type": "code",
   "execution_count": 33,
   "id": "8330716f-7bc3-4d6d-913c-520b7e4971b2",
   "metadata": {},
   "outputs": [],
   "source": [
    "data['release_date'] = pd.to_datetime(data['release_date'], format = '%Y')"
   ]
  },
  {
   "cell_type": "code",
   "execution_count": 34,
   "id": "f391a810-f0cf-4674-9be7-1449a3ad1f41",
   "metadata": {},
   "outputs": [],
   "source": [
    "data['release_date'] = data['release_date'].dt.year"
   ]
  },
  {
   "cell_type": "code",
   "execution_count": 35,
   "id": "1ebc13ee-515a-4beb-9ff8-8a35147454f0",
   "metadata": {},
   "outputs": [],
   "source": [
    "data = data.rename(columns = {'release_date': 'release_year'})"
   ]
  },
  {
   "cell_type": "code",
   "execution_count": 36,
   "id": "a41826f5-0e92-4138-ac89-8a4a12c45e85",
   "metadata": {},
   "outputs": [],
   "source": [
    "data['chart_week'] = pd.to_datetime(data['chart_week'], format='%Y-%m-%d')"
   ]
  },
  {
   "cell_type": "markdown",
   "id": "b6f66e84-7421-4403-b2f5-cda530488902",
   "metadata": {},
   "source": [
    "### Joining together data with audio_features\n",
    "\n",
    "Removing duplicates and resetting index. Filtering for songs released in 2000-2009"
   ]
  },
  {
   "cell_type": "code",
   "execution_count": 38,
   "id": "12cbd166-f414-4145-a14d-54431a88d69a",
   "metadata": {},
   "outputs": [],
   "source": [
    "data = data.merge(audio_features, on = 'track_id')"
   ]
  },
  {
   "cell_type": "code",
   "execution_count": 39,
   "id": "2d008a38-df69-4cc9-a63e-128850945c19",
   "metadata": {},
   "outputs": [],
   "source": [
    "data = data.drop_duplicates()"
   ]
  },
  {
   "cell_type": "code",
   "execution_count": 40,
   "id": "c54ecd3e-3cd8-42a5-a7cb-6a824ff75882",
   "metadata": {},
   "outputs": [],
   "source": [
    "data = data.reset_index(drop=True)"
   ]
  },
  {
   "cell_type": "code",
   "execution_count": 41,
   "id": "d206e19c-7976-4826-84fb-f95a73254f60",
   "metadata": {},
   "outputs": [],
   "source": [
    "final_data = data[(data['release_year'] >= 2000) & (data['release_year'] <= 2009)]"
   ]
  },
  {
   "cell_type": "code",
   "execution_count": 42,
   "id": "0e76b1c1-afae-42d9-9688-817dee5fbaf5",
   "metadata": {},
   "outputs": [
    {
     "data": {
      "text/html": [
       "<div>\n",
       "<style scoped>\n",
       "    .dataframe tbody tr th:only-of-type {\n",
       "        vertical-align: middle;\n",
       "    }\n",
       "\n",
       "    .dataframe tbody tr th {\n",
       "        vertical-align: top;\n",
       "    }\n",
       "\n",
       "    .dataframe thead th {\n",
       "        text-align: right;\n",
       "    }\n",
       "</style>\n",
       "<table border=\"1\" class=\"dataframe\">\n",
       "  <thead>\n",
       "    <tr style=\"text-align: right;\">\n",
       "      <th></th>\n",
       "      <th>track_name</th>\n",
       "      <th>artist</th>\n",
       "      <th>duration_min</th>\n",
       "      <th>release_year</th>\n",
       "      <th>popularity</th>\n",
       "      <th>followers</th>\n",
       "      <th>chart_week</th>\n",
       "      <th>list_position</th>\n",
       "      <th>track_id</th>\n",
       "      <th>artist_id</th>\n",
       "      <th>danceability</th>\n",
       "      <th>energy</th>\n",
       "      <th>key</th>\n",
       "      <th>loudness</th>\n",
       "      <th>mode</th>\n",
       "      <th>speechiness</th>\n",
       "      <th>acousticness</th>\n",
       "      <th>instrumentalness</th>\n",
       "      <th>liveness</th>\n",
       "      <th>valence</th>\n",
       "      <th>tempo</th>\n",
       "    </tr>\n",
       "  </thead>\n",
       "  <tbody>\n",
       "    <tr>\n",
       "      <th>733</th>\n",
       "      <td>He Wasn't Man Enough</td>\n",
       "      <td>Toni Braxton</td>\n",
       "      <td>4.4</td>\n",
       "      <td>2000</td>\n",
       "      <td>65</td>\n",
       "      <td>4234164</td>\n",
       "      <td>2000-05-06</td>\n",
       "      <td>2</td>\n",
       "      <td>7f1Dmr246cJ9uQYdbplTbh</td>\n",
       "      <td>3X458ddYA2YcVWuVIGGOYe</td>\n",
       "      <td>0.739</td>\n",
       "      <td>0.947</td>\n",
       "      <td>11.0</td>\n",
       "      <td>-1.916</td>\n",
       "      <td>0.0</td>\n",
       "      <td>0.0411</td>\n",
       "      <td>0.00916</td>\n",
       "      <td>0.000031</td>\n",
       "      <td>0.326</td>\n",
       "      <td>0.766</td>\n",
       "      <td>88</td>\n",
       "    </tr>\n",
       "    <tr>\n",
       "      <th>734</th>\n",
       "      <td>He Wasn't Man Enough</td>\n",
       "      <td>Toni Braxton</td>\n",
       "      <td>4.4</td>\n",
       "      <td>2000</td>\n",
       "      <td>65</td>\n",
       "      <td>4234164</td>\n",
       "      <td>2000-05-13</td>\n",
       "      <td>2</td>\n",
       "      <td>7f1Dmr246cJ9uQYdbplTbh</td>\n",
       "      <td>3X458ddYA2YcVWuVIGGOYe</td>\n",
       "      <td>0.739</td>\n",
       "      <td>0.947</td>\n",
       "      <td>11.0</td>\n",
       "      <td>-1.916</td>\n",
       "      <td>0.0</td>\n",
       "      <td>0.0411</td>\n",
       "      <td>0.00916</td>\n",
       "      <td>0.000031</td>\n",
       "      <td>0.326</td>\n",
       "      <td>0.766</td>\n",
       "      <td>88</td>\n",
       "    </tr>\n",
       "    <tr>\n",
       "      <th>735</th>\n",
       "      <td>He Wasn't Man Enough</td>\n",
       "      <td>Toni Braxton</td>\n",
       "      <td>4.4</td>\n",
       "      <td>2000</td>\n",
       "      <td>65</td>\n",
       "      <td>4234164</td>\n",
       "      <td>2000-04-29</td>\n",
       "      <td>3</td>\n",
       "      <td>7f1Dmr246cJ9uQYdbplTbh</td>\n",
       "      <td>3X458ddYA2YcVWuVIGGOYe</td>\n",
       "      <td>0.739</td>\n",
       "      <td>0.947</td>\n",
       "      <td>11.0</td>\n",
       "      <td>-1.916</td>\n",
       "      <td>0.0</td>\n",
       "      <td>0.0411</td>\n",
       "      <td>0.00916</td>\n",
       "      <td>0.000031</td>\n",
       "      <td>0.326</td>\n",
       "      <td>0.766</td>\n",
       "      <td>88</td>\n",
       "    </tr>\n",
       "    <tr>\n",
       "      <th>736</th>\n",
       "      <td>He Wasn't Man Enough</td>\n",
       "      <td>Toni Braxton</td>\n",
       "      <td>4.4</td>\n",
       "      <td>2000</td>\n",
       "      <td>65</td>\n",
       "      <td>4234164</td>\n",
       "      <td>2000-05-20</td>\n",
       "      <td>4</td>\n",
       "      <td>7f1Dmr246cJ9uQYdbplTbh</td>\n",
       "      <td>3X458ddYA2YcVWuVIGGOYe</td>\n",
       "      <td>0.739</td>\n",
       "      <td>0.947</td>\n",
       "      <td>11.0</td>\n",
       "      <td>-1.916</td>\n",
       "      <td>0.0</td>\n",
       "      <td>0.0411</td>\n",
       "      <td>0.00916</td>\n",
       "      <td>0.000031</td>\n",
       "      <td>0.326</td>\n",
       "      <td>0.766</td>\n",
       "      <td>88</td>\n",
       "    </tr>\n",
       "    <tr>\n",
       "      <th>737</th>\n",
       "      <td>He Wasn't Man Enough</td>\n",
       "      <td>Toni Braxton</td>\n",
       "      <td>4.4</td>\n",
       "      <td>2000</td>\n",
       "      <td>65</td>\n",
       "      <td>4234164</td>\n",
       "      <td>2000-05-27</td>\n",
       "      <td>4</td>\n",
       "      <td>7f1Dmr246cJ9uQYdbplTbh</td>\n",
       "      <td>3X458ddYA2YcVWuVIGGOYe</td>\n",
       "      <td>0.739</td>\n",
       "      <td>0.947</td>\n",
       "      <td>11.0</td>\n",
       "      <td>-1.916</td>\n",
       "      <td>0.0</td>\n",
       "      <td>0.0411</td>\n",
       "      <td>0.00916</td>\n",
       "      <td>0.000031</td>\n",
       "      <td>0.326</td>\n",
       "      <td>0.766</td>\n",
       "      <td>88</td>\n",
       "    </tr>\n",
       "    <tr>\n",
       "      <th>...</th>\n",
       "      <td>...</td>\n",
       "      <td>...</td>\n",
       "      <td>...</td>\n",
       "      <td>...</td>\n",
       "      <td>...</td>\n",
       "      <td>...</td>\n",
       "      <td>...</td>\n",
       "      <td>...</td>\n",
       "      <td>...</td>\n",
       "      <td>...</td>\n",
       "      <td>...</td>\n",
       "      <td>...</td>\n",
       "      <td>...</td>\n",
       "      <td>...</td>\n",
       "      <td>...</td>\n",
       "      <td>...</td>\n",
       "      <td>...</td>\n",
       "      <td>...</td>\n",
       "      <td>...</td>\n",
       "      <td>...</td>\n",
       "      <td>...</td>\n",
       "    </tr>\n",
       "    <tr>\n",
       "      <th>127924</th>\n",
       "      <td>Lemonade</td>\n",
       "      <td>Gucci Mane</td>\n",
       "      <td>4.1</td>\n",
       "      <td>2009</td>\n",
       "      <td>77</td>\n",
       "      <td>5661054</td>\n",
       "      <td>2010-05-01</td>\n",
       "      <td>69</td>\n",
       "      <td>6rUcS9i07F6okIe8wujs5J</td>\n",
       "      <td>13y7CgLHjMVRMDqxdx0Xdo</td>\n",
       "      <td>0.741</td>\n",
       "      <td>0.658</td>\n",
       "      <td>7.0</td>\n",
       "      <td>-7.758</td>\n",
       "      <td>1.0</td>\n",
       "      <td>0.0853</td>\n",
       "      <td>0.64300</td>\n",
       "      <td>0.000003</td>\n",
       "      <td>0.307</td>\n",
       "      <td>0.746</td>\n",
       "      <td>142</td>\n",
       "    </tr>\n",
       "    <tr>\n",
       "      <th>127925</th>\n",
       "      <td>Lemonade</td>\n",
       "      <td>Gucci Mane</td>\n",
       "      <td>4.1</td>\n",
       "      <td>2009</td>\n",
       "      <td>77</td>\n",
       "      <td>5661054</td>\n",
       "      <td>2010-03-06</td>\n",
       "      <td>74</td>\n",
       "      <td>6rUcS9i07F6okIe8wujs5J</td>\n",
       "      <td>13y7CgLHjMVRMDqxdx0Xdo</td>\n",
       "      <td>0.741</td>\n",
       "      <td>0.658</td>\n",
       "      <td>7.0</td>\n",
       "      <td>-7.758</td>\n",
       "      <td>1.0</td>\n",
       "      <td>0.0853</td>\n",
       "      <td>0.64300</td>\n",
       "      <td>0.000003</td>\n",
       "      <td>0.307</td>\n",
       "      <td>0.746</td>\n",
       "      <td>142</td>\n",
       "    </tr>\n",
       "    <tr>\n",
       "      <th>127926</th>\n",
       "      <td>Lemonade</td>\n",
       "      <td>Gucci Mane</td>\n",
       "      <td>4.1</td>\n",
       "      <td>2009</td>\n",
       "      <td>77</td>\n",
       "      <td>5661054</td>\n",
       "      <td>2010-02-27</td>\n",
       "      <td>81</td>\n",
       "      <td>6rUcS9i07F6okIe8wujs5J</td>\n",
       "      <td>13y7CgLHjMVRMDqxdx0Xdo</td>\n",
       "      <td>0.741</td>\n",
       "      <td>0.658</td>\n",
       "      <td>7.0</td>\n",
       "      <td>-7.758</td>\n",
       "      <td>1.0</td>\n",
       "      <td>0.0853</td>\n",
       "      <td>0.64300</td>\n",
       "      <td>0.000003</td>\n",
       "      <td>0.307</td>\n",
       "      <td>0.746</td>\n",
       "      <td>142</td>\n",
       "    </tr>\n",
       "    <tr>\n",
       "      <th>127927</th>\n",
       "      <td>Lemonade</td>\n",
       "      <td>Gucci Mane</td>\n",
       "      <td>4.1</td>\n",
       "      <td>2009</td>\n",
       "      <td>77</td>\n",
       "      <td>5661054</td>\n",
       "      <td>2010-05-08</td>\n",
       "      <td>86</td>\n",
       "      <td>6rUcS9i07F6okIe8wujs5J</td>\n",
       "      <td>13y7CgLHjMVRMDqxdx0Xdo</td>\n",
       "      <td>0.741</td>\n",
       "      <td>0.658</td>\n",
       "      <td>7.0</td>\n",
       "      <td>-7.758</td>\n",
       "      <td>1.0</td>\n",
       "      <td>0.0853</td>\n",
       "      <td>0.64300</td>\n",
       "      <td>0.000003</td>\n",
       "      <td>0.307</td>\n",
       "      <td>0.746</td>\n",
       "      <td>142</td>\n",
       "    </tr>\n",
       "    <tr>\n",
       "      <th>127928</th>\n",
       "      <td>Lemonade</td>\n",
       "      <td>Gucci Mane</td>\n",
       "      <td>4.1</td>\n",
       "      <td>2009</td>\n",
       "      <td>77</td>\n",
       "      <td>5661054</td>\n",
       "      <td>2010-02-20</td>\n",
       "      <td>93</td>\n",
       "      <td>6rUcS9i07F6okIe8wujs5J</td>\n",
       "      <td>13y7CgLHjMVRMDqxdx0Xdo</td>\n",
       "      <td>0.741</td>\n",
       "      <td>0.658</td>\n",
       "      <td>7.0</td>\n",
       "      <td>-7.758</td>\n",
       "      <td>1.0</td>\n",
       "      <td>0.0853</td>\n",
       "      <td>0.64300</td>\n",
       "      <td>0.000003</td>\n",
       "      <td>0.307</td>\n",
       "      <td>0.746</td>\n",
       "      <td>142</td>\n",
       "    </tr>\n",
       "  </tbody>\n",
       "</table>\n",
       "<p>59234 rows × 21 columns</p>\n",
       "</div>"
      ],
      "text/plain": [
       "                  track_name        artist  duration_min  release_year  \\\n",
       "733     He Wasn't Man Enough  Toni Braxton           4.4          2000   \n",
       "734     He Wasn't Man Enough  Toni Braxton           4.4          2000   \n",
       "735     He Wasn't Man Enough  Toni Braxton           4.4          2000   \n",
       "736     He Wasn't Man Enough  Toni Braxton           4.4          2000   \n",
       "737     He Wasn't Man Enough  Toni Braxton           4.4          2000   \n",
       "...                      ...           ...           ...           ...   \n",
       "127924              Lemonade    Gucci Mane           4.1          2009   \n",
       "127925              Lemonade    Gucci Mane           4.1          2009   \n",
       "127926              Lemonade    Gucci Mane           4.1          2009   \n",
       "127927              Lemonade    Gucci Mane           4.1          2009   \n",
       "127928              Lemonade    Gucci Mane           4.1          2009   \n",
       "\n",
       "        popularity  followers chart_week  list_position  \\\n",
       "733             65    4234164 2000-05-06              2   \n",
       "734             65    4234164 2000-05-13              2   \n",
       "735             65    4234164 2000-04-29              3   \n",
       "736             65    4234164 2000-05-20              4   \n",
       "737             65    4234164 2000-05-27              4   \n",
       "...            ...        ...        ...            ...   \n",
       "127924          77    5661054 2010-05-01             69   \n",
       "127925          77    5661054 2010-03-06             74   \n",
       "127926          77    5661054 2010-02-27             81   \n",
       "127927          77    5661054 2010-05-08             86   \n",
       "127928          77    5661054 2010-02-20             93   \n",
       "\n",
       "                      track_id               artist_id  danceability  energy  \\\n",
       "733     7f1Dmr246cJ9uQYdbplTbh  3X458ddYA2YcVWuVIGGOYe         0.739   0.947   \n",
       "734     7f1Dmr246cJ9uQYdbplTbh  3X458ddYA2YcVWuVIGGOYe         0.739   0.947   \n",
       "735     7f1Dmr246cJ9uQYdbplTbh  3X458ddYA2YcVWuVIGGOYe         0.739   0.947   \n",
       "736     7f1Dmr246cJ9uQYdbplTbh  3X458ddYA2YcVWuVIGGOYe         0.739   0.947   \n",
       "737     7f1Dmr246cJ9uQYdbplTbh  3X458ddYA2YcVWuVIGGOYe         0.739   0.947   \n",
       "...                        ...                     ...           ...     ...   \n",
       "127924  6rUcS9i07F6okIe8wujs5J  13y7CgLHjMVRMDqxdx0Xdo         0.741   0.658   \n",
       "127925  6rUcS9i07F6okIe8wujs5J  13y7CgLHjMVRMDqxdx0Xdo         0.741   0.658   \n",
       "127926  6rUcS9i07F6okIe8wujs5J  13y7CgLHjMVRMDqxdx0Xdo         0.741   0.658   \n",
       "127927  6rUcS9i07F6okIe8wujs5J  13y7CgLHjMVRMDqxdx0Xdo         0.741   0.658   \n",
       "127928  6rUcS9i07F6okIe8wujs5J  13y7CgLHjMVRMDqxdx0Xdo         0.741   0.658   \n",
       "\n",
       "         key  loudness  mode  speechiness  acousticness  instrumentalness  \\\n",
       "733     11.0    -1.916   0.0       0.0411       0.00916          0.000031   \n",
       "734     11.0    -1.916   0.0       0.0411       0.00916          0.000031   \n",
       "735     11.0    -1.916   0.0       0.0411       0.00916          0.000031   \n",
       "736     11.0    -1.916   0.0       0.0411       0.00916          0.000031   \n",
       "737     11.0    -1.916   0.0       0.0411       0.00916          0.000031   \n",
       "...      ...       ...   ...          ...           ...               ...   \n",
       "127924   7.0    -7.758   1.0       0.0853       0.64300          0.000003   \n",
       "127925   7.0    -7.758   1.0       0.0853       0.64300          0.000003   \n",
       "127926   7.0    -7.758   1.0       0.0853       0.64300          0.000003   \n",
       "127927   7.0    -7.758   1.0       0.0853       0.64300          0.000003   \n",
       "127928   7.0    -7.758   1.0       0.0853       0.64300          0.000003   \n",
       "\n",
       "        liveness  valence  tempo  \n",
       "733        0.326    0.766     88  \n",
       "734        0.326    0.766     88  \n",
       "735        0.326    0.766     88  \n",
       "736        0.326    0.766     88  \n",
       "737        0.326    0.766     88  \n",
       "...          ...      ...    ...  \n",
       "127924     0.307    0.746    142  \n",
       "127925     0.307    0.746    142  \n",
       "127926     0.307    0.746    142  \n",
       "127927     0.307    0.746    142  \n",
       "127928     0.307    0.746    142  \n",
       "\n",
       "[59234 rows x 21 columns]"
      ]
     },
     "execution_count": 42,
     "metadata": {},
     "output_type": "execute_result"
    }
   ],
   "source": [
    "final_data"
   ]
  }
 ],
 "metadata": {
  "kernelspec": {
   "display_name": "Python 3 (ipykernel)",
   "language": "python",
   "name": "python3"
  },
  "language_info": {
   "codemirror_mode": {
    "name": "ipython",
    "version": 3
   },
   "file_extension": ".py",
   "mimetype": "text/x-python",
   "name": "python",
   "nbconvert_exporter": "python",
   "pygments_lexer": "ipython3",
   "version": "3.12.7"
  }
 },
 "nbformat": 4,
 "nbformat_minor": 5
}
